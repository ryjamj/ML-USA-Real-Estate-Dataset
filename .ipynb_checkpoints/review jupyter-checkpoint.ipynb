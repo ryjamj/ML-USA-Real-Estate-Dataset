{
 "cells": [
  {
   "cell_type": "markdown",
   "id": "30839264",
   "metadata": {},
   "source": [
    "# To Do & Goals\n",
    "- Suspect that some of the listings that are not homes. Probably need to create ML model to try and classify homes from non-homes.\n",
    "- Explore missingno documentation.  Can I create a function that also returns the % of values that are missing per row?\n",
    "- Can I geocode street addresses into lat & long values?  Might be able use an google api with account for this."
   ]
  },
  {
   "cell_type": "code",
   "execution_count": null,
   "id": "93f73432",
   "metadata": {},
   "outputs": [],
   "source": [
    "# working with data\n",
    "import os\n",
    "import numpy as np\n",
    "import pandas as pd\n",
    "#import geopandas as gpd # the library that lets us read in shapefiles\n",
    "#import geoplot as gplt # for plotting maps #having trouble getting this to install\n",
    "\n",
    "# visulizaiton\n",
    "from termcolor import colored # colored text\n",
    "import missingno as msno # visuzlise missing data in a matrix\n",
    "import seaborn as sns\n",
    "import matplotlib.pyplot as plt\n",
    "\n",
    "# Cleanup\n",
    "from datetime import datetime\n",
    "pd.set_option('display.max_columns', 999)  # How to display all columns of a Pandas DataFrame in Jupyter Notebook"
   ]
  },
  {
   "cell_type": "code",
   "execution_count": null,
   "id": "fd205935",
   "metadata": {},
   "outputs": [],
   "source": [
    "# Setting work directory\n",
    "cwd = os.getcwd()\n",
    "print(\"current directory = \" + cwd)\n",
    "\n",
    "# os.chdir(\"../NotEssentialData\")\n",
    "# print(\"new directory = \" + os.path.abspath(os.curdir))"
   ]
  },
  {
   "cell_type": "markdown",
   "id": "d37c8c14",
   "metadata": {},
   "source": [
    "## Input Data\n",
    "- https://www.kaggle.com/datasets/ahmedshahriarsakib/usa-real-estate-dataset?resource=download\n",
    "This dataset contains Real Estate listings in the US broken by State and zip code. Data was collected via web scraping using python libraries."
   ]
  },
  {
   "cell_type": "code",
   "execution_count": null,
   "id": "5a1d5125",
   "metadata": {},
   "outputs": [],
   "source": [
    "#Input file\n",
    "fileInput = \"data/realtor-data.csv\"\n",
    "df = pd.read_csv(fileInput).reset_index(drop=True)\n",
    "print(len(df))\n",
    "df.head(1)"
   ]
  },
  {
   "cell_type": "markdown",
   "id": "59314a82",
   "metadata": {},
   "source": [
    "## Explore the Data"
   ]
  },
  {
   "cell_type": "code",
   "execution_count": null,
   "id": "ad44d2a9",
   "metadata": {},
   "outputs": [],
   "source": [
    "df.info()"
   ]
  },
  {
   "cell_type": "code",
   "execution_count": null,
   "id": "6f059ad6",
   "metadata": {},
   "outputs": [],
   "source": [
    "# explore missing values\n",
    "\n",
    "msno.matrix(df, figsize=(10,5), fontsize=11)"
   ]
  },
  {
   "cell_type": "code",
   "execution_count": null,
   "id": "4e21d6fb",
   "metadata": {},
   "outputs": [],
   "source": [
    "# Pair Plot features agaist one another\n",
    "# large dataset, having difficulty getting this to work\n",
    "sns.pairplot(df)"
   ]
  },
  {
   "cell_type": "code",
   "execution_count": null,
   "id": "512decf5",
   "metadata": {},
   "outputs": [],
   "source": [
    "# function to show the distriubtion of numieric features\n",
    "def ShowDistributionFuc(var):\n",
    "    '''\n",
    "    This function will only works with numierc values.\n",
    "    Shows statistics & displays a histogram - boxplot combo.\n",
    "    '''\n",
    "\n",
    "    # Get statistics\n",
    "    min_val = var.min()\n",
    "    mean_val = var.mean()\n",
    "    med_val = var.median()\n",
    "    mod_val = var.mode()[0]\n",
    "    max_val = var.max()\n",
    "    print(colored('Min: ' + str(min_val), 'grey'))\n",
    "    print(colored('Mean: ' + str(mean_val), 'cyan'))\n",
    "    print(colored('Median: ' + str(med_val), 'red'))\n",
    "    print(colored('Mode: ' + str(mod_val), 'yellow'))\n",
    "    print(colored('Max: ' + str(max_val), 'grey'))\n",
    "\n",
    "\n",
    "    # Create a figure for 2 subplots (2 rows, 1 column)(historgram & boxplot)\n",
    "    fig, ax = plt.subplots(2, 1, figsize = (10,4))\n",
    "    fig.suptitle('Data Distribution')\n",
    "\n",
    "    # Plot the histogram, add lines for the mean, median, and mode\n",
    "    ax[0].hist(var)\n",
    "    ax[0].set_ylabel('Frequency')\n",
    "    ax[0].axvline(x=min_val, color = 'gray', linestyle='dashed', linewidth = 2)\n",
    "    ax[0].axvline(x=mean_val, color = 'cyan', linestyle='dashed', linewidth = 2)\n",
    "    ax[0].axvline(x=med_val, color = 'red', linestyle='dashed', linewidth = 2)\n",
    "    ax[0].axvline(x=mod_val, color = 'yellow', linestyle='dashed', linewidth = 2)\n",
    "    ax[0].axvline(x=max_val, color = 'gray', linestyle='dashed', linewidth = 2)\n",
    "\n",
    "    # Plot the boxplot\n",
    "    ax[1].boxplot(var, vert=False)\n",
    "    ax[1].set_xlabel('Value')\n",
    "\n",
    "    fig.show()"
   ]
  },
  {
   "cell_type": "code",
   "execution_count": null,
   "id": "6f10cf80",
   "metadata": {},
   "outputs": [],
   "source": [
    "# Distribution of 'price'\n",
    "\n",
    "ShowDistributionFuc(df['price'])"
   ]
  },
  {
   "cell_type": "code",
   "execution_count": null,
   "id": "076b05c7",
   "metadata": {},
   "outputs": [],
   "source": [
    "# Inspect high price rows\n",
    "df1=df[df['price'] >= 875000000]\n",
    "df1"
   ]
  },
  {
   "cell_type": "code",
   "execution_count": null,
   "id": "8310ba20",
   "metadata": {},
   "outputs": [],
   "source": [
    "# Distribution of 'bed'\n",
    "\n",
    "ShowDistributionFuc(df['bed'])"
   ]
  },
  {
   "cell_type": "code",
   "execution_count": null,
   "id": "125cd3de",
   "metadata": {},
   "outputs": [],
   "source": [
    "# Distribution of 'bath'\n",
    "\n",
    "ShowDistributionFuc(df['bath'])"
   ]
  },
  {
   "cell_type": "code",
   "execution_count": null,
   "id": "e0781cd3",
   "metadata": {},
   "outputs": [],
   "source": [
    "# Distribution of 'house_size'\n",
    "\n",
    "ShowDistributionFuc(df['house_size'])"
   ]
  },
  {
   "cell_type": "markdown",
   "id": "62253c46",
   "metadata": {},
   "source": [
    "## Clean the Data\n",
    "- create new working dataframe\n",
    "- remove duplicate entries\n",
    "- remove households with a price >= $1,000,000"
   ]
  },
  {
   "cell_type": "code",
   "execution_count": null,
   "id": "5bfac23f",
   "metadata": {},
   "outputs": [],
   "source": [
    "# create new dataframe\n",
    "# remove duplicate entries\n",
    "\n",
    "df1 = df.drop_duplicates().reset_index(drop=True)\n",
    "print(len(df1))\n",
    "df1.head(1)"
   ]
  },
  {
   "cell_type": "code",
   "execution_count": null,
   "id": "47e08660",
   "metadata": {},
   "outputs": [],
   "source": [
    "# remove households with pirce >= $1,000,000\n",
    "df1 = df1[df1['price'] < 1000000]\n",
    "print(len(df1))\n",
    "print(ShowDistributionFuc(df1['price']))\n",
    "df1.head(1)"
   ]
  },
  {
   "cell_type": "code",
   "execution_count": null,
   "id": "9d5b0dc7",
   "metadata": {},
   "outputs": [],
   "source": [
    "print(ShowDistributionFuc(df1['bed']))"
   ]
  },
  {
   "cell_type": "code",
   "execution_count": null,
   "id": "d5ada680",
   "metadata": {},
   "outputs": [],
   "source": [
    "df2 = df1[df1['bed'] > 10]\n",
    "df2.head()"
   ]
  },
  {
   "cell_type": "markdown",
   "id": "03008876",
   "metadata": {},
   "source": [
    "## Clustering\n",
    "- Use Principal Component Analysis (PCA) to analyze the relationships between the features and summarize each observation as coordinates for two principal components."
   ]
  },
  {
   "cell_type": "code",
   "execution_count": null,
   "id": "fe394dea",
   "metadata": {},
   "outputs": [],
   "source": [
    "# create dataframe of numeric features\n",
    "featureColumns = ['price', 'bed', 'bath', 'acre_lot', 'house_size']\n",
    "dfml = df[featureColumns].copy()\n",
    "dfml = dfml.dropna().reset_index(drop=True)\n",
    "print(len(dfml))\n",
    "dfml.head(1)"
   ]
  },
  {
   "cell_type": "code",
   "execution_count": null,
   "id": "a5835df5",
   "metadata": {},
   "outputs": [],
   "source": [
    "features = dfml[dfml.columns[0:5]]\n",
    "features"
   ]
  },
  {
   "cell_type": "code",
   "execution_count": null,
   "id": "5a9092b1",
   "metadata": {},
   "outputs": [],
   "source": [
    "from sklearn.preprocessing import MinMaxScaler\n",
    "from sklearn.decomposition import PCA\n",
    "\n",
    "# Normalize the numeric features so they're on the same scale\n",
    "scaled_features = MinMaxScaler().fit_transform(features[dfml.columns[0:5]])\n",
    "\n",
    "# Get two principal components\n",
    "pca = PCA(n_components=2).fit(scaled_features)\n",
    "features_2d = pca.transform(scaled_features)\n",
    "features_2d[0:10]"
   ]
  },
  {
   "cell_type": "code",
   "execution_count": null,
   "id": "f4e0a81d",
   "metadata": {},
   "outputs": [],
   "source": [
    "# visualize the translated two dimensions in a plot with matplotlib\n",
    "\n",
    "plt.scatter(features_2d[:,0],features_2d[:,1])\n",
    "plt.xlabel('Dimension 1')\n",
    "plt.ylabel('Dimension 2')\n",
    "plt.title('Data')\n",
    "plt.show()"
   ]
  },
  {
   "cell_type": "code",
   "execution_count": null,
   "id": "83f210cb",
   "metadata": {},
   "outputs": [],
   "source": [
    "# # K-Means Clustering\n",
    "# # Let's try using K-Means on our seeds data with a K value of 3.\n",
    "\n",
    "# from sklearn.cluster import KMeans\n",
    "\n",
    "# # Create a model based on 3 centroids\n",
    "# model = KMeans(n_clusters=3, init='k-means++', n_init=100, max_iter=1000)\n",
    "# # Fit to the data and predict the cluster assignments for each data point\n",
    "# km_clusters = model.fit_predict(features.values)\n",
    "# # View the cluster assignments\n",
    "# km_clustersimport matplotlib.pyplot as plt\n",
    "\n",
    "# %matplotlib inline\n",
    "\n",
    "# plt.scatter(features_2d[:,0],features_2d[:,1])\n",
    "# plt.xlabel('Dimension 1')\n",
    "# plt.ylabel('Dimension 2')\n",
    "# plt.title('Data')\n",
    "# plt.show()"
   ]
  },
  {
   "cell_type": "code",
   "execution_count": null,
   "id": "e370782c",
   "metadata": {},
   "outputs": [],
   "source": [
    "# # Visualize those cluster assignments\n",
    "\n",
    "# import matplotlib.pyplot as plt\n",
    "# %matplotlib inline\n",
    "\n",
    "# def plot_clusters(samples, clusters):\n",
    "#     col_dic = {0:'blue',1:'green',2:'orange'}\n",
    "#     mrk_dic = {0:'*',1:'x',2:'+'}\n",
    "#     colors = [col_dic[x] for x in clusters]\n",
    "#     markers = [mrk_dic[x] for x in clusters]\n",
    "#     for sample in range(len(clusters)):\n",
    "#         plt.scatter(samples[sample][0], samples[sample][1], color = colors[sample], marker=markers[sample], s=100)\n",
    "#     plt.xlabel('Dimension 1')\n",
    "#     plt.ylabel('Dimension 2')\n",
    "#     plt.title('Assignments')\n",
    "#     plt.show()\n",
    "\n",
    "# plot_clusters(features_2d, km_clusters)"
   ]
  },
  {
   "cell_type": "code",
   "execution_count": null,
   "id": "11e7b020",
   "metadata": {},
   "outputs": [],
   "source": []
  },
  {
   "cell_type": "markdown",
   "id": "c4b006af",
   "metadata": {},
   "source": [
    "## Convert street address to lat & long"
   ]
  },
  {
   "cell_type": "code",
   "execution_count": null,
   "id": "86b50ffc",
   "metadata": {},
   "outputs": [],
   "source": [
    "# convert street address to lat & long\n",
    "from geopy.extra.rate_limiter import RateLimiter\n",
    "\n",
    "locator = Nominatim(user_agent=”myGeocoder”)\n",
    "location = locator.geocode(“Champ de Mars, Paris, France”)"
   ]
  },
  {
   "cell_type": "code",
   "execution_count": null,
   "id": "916603a3",
   "metadata": {},
   "outputs": [],
   "source": [
    "import requests\n",
    "\n",
    "response = requests.get('https://maps.googleapis.com/maps/api/geocode/json?address=1600+Amphitheatre+Parkway,+Mountain+View,+CA')\n",
    "resp_json_payload = response.json()\n",
    "resp_json_payload\n",
    "#print(resp_json_payload['results'][0]['geometry']['location'])"
   ]
  },
  {
   "cell_type": "code",
   "execution_count": null,
   "id": "2e795e90",
   "metadata": {},
   "outputs": [],
   "source": []
  }
 ],
 "metadata": {
  "kernelspec": {
   "display_name": "Python 3 (ipykernel)",
   "language": "python",
   "name": "python3"
  },
  "language_info": {
   "codemirror_mode": {
    "name": "ipython",
    "version": 3
   },
   "file_extension": ".py",
   "mimetype": "text/x-python",
   "name": "python",
   "nbconvert_exporter": "python",
   "pygments_lexer": "ipython3",
   "version": "3.9.16"
  }
 },
 "nbformat": 4,
 "nbformat_minor": 5
}
